{
  "cells": [
    {
      "cell_type": "markdown",
      "metadata": {
        "id": "dxpkvkJWXnW5"
      },
      "source": [
        "# Problem Statement:\n",
        "The objective of this analysis is to understand key factors influencing app success on the Google Play Store. This includes identifying patterns in ratings, reviews, pricing strategies, and installs to provide insights for app developers and businesses.\n"
      ]
    },
    {
      "cell_type": "markdown",
      "metadata": {
        "id": "mrGS--4rXnW6"
      },
      "source": [
        "# Goals:\n",
        "Analyze app ratings and reviews to determine quality indicators.\n",
        "\n",
        "Understand pricing strategies (free vs. paid apps) and their impact on downloads.\n",
        "\n",
        "Identify popular app categories based on installs and ratings.\n",
        "\n",
        "Examine the effect of app size, updates, and Android version compatibility on performance."
      ]
    },
    {
      "cell_type": "markdown",
      "source": [
        "#Features\n",
        "The dataset contains details of various apps from the Google Play Store, including:\n",
        "\n",
        "App Name\n",
        "\n",
        "Category\n",
        "\n",
        "Rating\n",
        "\n",
        "Reviews\n",
        "\n",
        "Size\n",
        "\n",
        "Installs\n",
        "\n",
        "Type (Free or Paid)\n",
        "\n",
        "Price\n",
        "\n",
        "Content Rating\n",
        "\n",
        "Genres\n",
        "\n",
        "Last Updated\n",
        "\n",
        "Current Version\n",
        "\n",
        "Android Version"
      ],
      "metadata": {
        "id": "s91UGM70ZV6a"
      }
    },
    {
      "cell_type": "markdown",
      "source": [
        "# Target Variable\n",
        "Virality Score (a custom metric engineered to reflect user engagement, popularity, and growth)"
      ],
      "metadata": {
        "id": "Y5AvErgtZe6J"
      }
    },
    {
      "cell_type": "code",
      "execution_count": null,
      "metadata": {
        "id": "P9rvl2M4-YQF"
      },
      "outputs": [],
      "source": [
        "import pandas as pd\n",
        "import numpy as np\n",
        "import matplotlib.pyplot as plt\n",
        "import seaborn as sns\n",
        "from sklearn.preprocessing import StandardScaler, LabelEncoder\n",
        "from sklearn.cluster import KMeans\n",
        "from sklearn.decomposition import PCA\n",
        "from sklearn.metrics import silhouette_score\n"
      ]
    },
    {
      "cell_type": "markdown",
      "source": [
        "# Understand the data"
      ],
      "metadata": {
        "id": "IryRE3utZu7J"
      }
    },
    {
      "cell_type": "code",
      "execution_count": null,
      "metadata": {
        "colab": {
          "base_uri": "https://localhost:8080/",
          "height": 222
        },
        "id": "rGFPHV21-eZB",
        "outputId": "4a26e7e7-9e57-4459-b5b1-577a13ac6e0b"
      },
      "outputs": [
        {
          "output_type": "error",
          "ename": "NameError",
          "evalue": "name 'pd' is not defined",
          "traceback": [
            "\u001b[0;31m---------------------------------------------------------------------------\u001b[0m",
            "\u001b[0;31mNameError\u001b[0m                                 Traceback (most recent call last)",
            "\u001b[0;32m<ipython-input-1-9b71e60c3250>\u001b[0m in \u001b[0;36m<cell line: 0>\u001b[0;34m()\u001b[0m\n\u001b[1;32m      1\u001b[0m \u001b[0;31m# Load dataset\u001b[0m\u001b[0;34m\u001b[0m\u001b[0;34m\u001b[0m\u001b[0m\n\u001b[0;32m----> 2\u001b[0;31m \u001b[0mdf\u001b[0m \u001b[0;34m=\u001b[0m \u001b[0mpd\u001b[0m\u001b[0;34m.\u001b[0m\u001b[0mread_csv\u001b[0m\u001b[0;34m(\u001b[0m\u001b[0;34m\"googleplaystore.csv\"\u001b[0m\u001b[0;34m)\u001b[0m\u001b[0;34m\u001b[0m\u001b[0;34m\u001b[0m\u001b[0m\n\u001b[0m\u001b[1;32m      3\u001b[0m \u001b[0;34m\u001b[0m\u001b[0m\n\u001b[1;32m      4\u001b[0m \u001b[0;31m# Display first few rows\u001b[0m\u001b[0;34m\u001b[0m\u001b[0;34m\u001b[0m\u001b[0m\n\u001b[1;32m      5\u001b[0m \u001b[0mdf\u001b[0m\u001b[0;34m.\u001b[0m\u001b[0mhead\u001b[0m\u001b[0;34m(\u001b[0m\u001b[0;34m)\u001b[0m\u001b[0;34m\u001b[0m\u001b[0;34m\u001b[0m\u001b[0m\n",
            "\u001b[0;31mNameError\u001b[0m: name 'pd' is not defined"
          ]
        }
      ],
      "source": [
        "# Load dataset\n",
        "df = pd.read_csv(\"googleplaystore.csv\")\n",
        "\n",
        "# Display first few rows\n",
        "df.head()\n"
      ]
    },
    {
      "cell_type": "markdown",
      "source": [
        "#  Data Cleaning\n",
        "Removed duplicates (e.g., multiple entries of Facebook, WhatsApp, Instagram)\n",
        "\n",
        "Converted installs, size, price into numerical formats\n",
        "\n",
        "Handled missing values in Rating, Size, Android Version"
      ],
      "metadata": {
        "id": "gX-jK8F9ZrBo"
      }
    },
    {
      "cell_type": "code",
      "execution_count": null,
      "metadata": {
        "id": "4oaR1uY_-eWp"
      },
      "outputs": [],
      "source": [
        "# Remove duplicates\n",
        "df.drop_duplicates(inplace=True)\n",
        "\n",
        "# Remove NaN values\n",
        "df.dropna(inplace=True)\n"
      ]
    },
    {
      "cell_type": "code",
      "execution_count": null,
      "metadata": {
        "id": "9GgfgzbMCkTg"
      },
      "outputs": [],
      "source": [
        "# Remove non-numeric characters and convert to numeric\n",
        "df['Installs'] = df['Installs'].str.replace(r'[\\+,]', '', regex=True).astype(float)\n",
        "df['Reviews'] = pd.to_numeric(df['Reviews'], errors='coerce')\n",
        "df['Size'] = df['Size'].str.replace(r'[^0-9]', '', regex=True)  # Remove non-numeric characters\n",
        "df['Size'] = pd.to_numeric(df['Size'], errors='coerce')  # Convert to float\n",
        "df['Price'] = df['Price'].str.replace(r'[\\$,]', '', regex=True).astype(float)  # Remove $ and convert\n",
        "\n"
      ]
    },
    {
      "cell_type": "markdown",
      "source": [
        "# Feature Engineering\n",
        "Created new features to quantify app virality:\n",
        "\n",
        "✅ Engagement Score\n",
        "Measures how engaging an app is based on reviews and installs:\n",
        "\n",
        "Engagement Score\n",
        "=\n",
        "Reviews\n",
        "Installs\n",
        "×\n",
        "100\n",
        "Engagement Score=\n",
        "Installs\n",
        "Reviews\n",
        "​\n",
        " ×100\n",
        "\n",
        "✅ Virality Score A custom metric to quantify virality based on reviews, installs, and ratings:\n",
        "\n",
        "Virality Score\n",
        "=\n",
        "log\n",
        "⁡\n",
        "(\n",
        "Reviews\n",
        ")\n",
        "×\n",
        "Rating\n",
        "log\n",
        "⁡\n",
        "(\n",
        "Installs\n",
        ")\n",
        "Virality Score=\n",
        "log(Installs)\n",
        "log(Reviews)×Rating\n",
        "​\n",
        "\n"
      ],
      "metadata": {
        "id": "s5jZ30jvY22B"
      }
    },
    {
      "cell_type": "code",
      "source": [
        "import numpy as np\n",
        "\n",
        "# Apply log transformation to scale down large values\n",
        "df['Virality Score'] = (np.log1p(df['Installs']) + np.log1p(df['Reviews'])) / \\\n",
        "                              (np.log1p(df['Size']) + (1 + df['Price']))\n",
        "\n",
        "# Display top apps based on User Engagement Index\n",
        "df[['App', 'Category', 'Installs', 'Reviews', 'Size', 'Price', 'Virality Score']] \\\n",
        "  .sort_values(by='Virality Score', ascending=False) \\\n",
        "  .head(10)\n"
      ],
      "metadata": {
        "colab": {
          "base_uri": "https://localhost:8080/",
          "height": 363
        },
        "id": "QL5-1PhEY10T",
        "outputId": "0cde4ff4-15fa-4f3f-f2bb-ae2d333c8fdb"
      },
      "execution_count": null,
      "outputs": [
        {
          "output_type": "execute_result",
          "data": {
            "text/plain": [
              "                                           App       Category      Installs  \\\n",
              "2544                                  Facebook         SOCIAL  1.000000e+09   \n",
              "3943                                  Facebook         SOCIAL  1.000000e+09   \n",
              "336                         WhatsApp Messenger  COMMUNICATION  1.000000e+09   \n",
              "3904                        WhatsApp Messenger  COMMUNICATION  1.000000e+09   \n",
              "2604                                 Instagram         SOCIAL  1.000000e+09   \n",
              "2545                                 Instagram         SOCIAL  1.000000e+09   \n",
              "3909                                 Instagram         SOCIAL  1.000000e+09   \n",
              "382   Messenger – Text and Video Chat for Free  COMMUNICATION  1.000000e+09   \n",
              "335   Messenger – Text and Video Chat for Free  COMMUNICATION  1.000000e+09   \n",
              "3665                                   YouTube  VIDEO_PLAYERS  1.000000e+09   \n",
              "\n",
              "       Reviews  Size  Price  Virality Score  \n",
              "2544  78158306   0.0    0.0       38.897513  \n",
              "3943  78128208   0.0    0.0       38.897128  \n",
              "336   69119316   0.0    0.0       38.774611  \n",
              "3904  69109672   0.0    0.0       38.774471  \n",
              "2604  66577446   0.0    0.0       38.737142  \n",
              "2545  66577313   0.0    0.0       38.737140  \n",
              "3909  66509917   0.0    0.0       38.736127  \n",
              "382   56646578   0.0    0.0       38.575608  \n",
              "335   56642847   0.0    0.0       38.575542  \n",
              "3665  25655305   0.0    0.0       37.783527  "
            ],
            "text/html": [
              "\n",
              "  <div id=\"df-23ee9447-222a-4837-8dde-e91772b5800f\" class=\"colab-df-container\">\n",
              "    <div>\n",
              "<style scoped>\n",
              "    .dataframe tbody tr th:only-of-type {\n",
              "        vertical-align: middle;\n",
              "    }\n",
              "\n",
              "    .dataframe tbody tr th {\n",
              "        vertical-align: top;\n",
              "    }\n",
              "\n",
              "    .dataframe thead th {\n",
              "        text-align: right;\n",
              "    }\n",
              "</style>\n",
              "<table border=\"1\" class=\"dataframe\">\n",
              "  <thead>\n",
              "    <tr style=\"text-align: right;\">\n",
              "      <th></th>\n",
              "      <th>App</th>\n",
              "      <th>Category</th>\n",
              "      <th>Installs</th>\n",
              "      <th>Reviews</th>\n",
              "      <th>Size</th>\n",
              "      <th>Price</th>\n",
              "      <th>Virality Score</th>\n",
              "    </tr>\n",
              "  </thead>\n",
              "  <tbody>\n",
              "    <tr>\n",
              "      <th>2544</th>\n",
              "      <td>Facebook</td>\n",
              "      <td>SOCIAL</td>\n",
              "      <td>1.000000e+09</td>\n",
              "      <td>78158306</td>\n",
              "      <td>0.0</td>\n",
              "      <td>0.0</td>\n",
              "      <td>38.897513</td>\n",
              "    </tr>\n",
              "    <tr>\n",
              "      <th>3943</th>\n",
              "      <td>Facebook</td>\n",
              "      <td>SOCIAL</td>\n",
              "      <td>1.000000e+09</td>\n",
              "      <td>78128208</td>\n",
              "      <td>0.0</td>\n",
              "      <td>0.0</td>\n",
              "      <td>38.897128</td>\n",
              "    </tr>\n",
              "    <tr>\n",
              "      <th>336</th>\n",
              "      <td>WhatsApp Messenger</td>\n",
              "      <td>COMMUNICATION</td>\n",
              "      <td>1.000000e+09</td>\n",
              "      <td>69119316</td>\n",
              "      <td>0.0</td>\n",
              "      <td>0.0</td>\n",
              "      <td>38.774611</td>\n",
              "    </tr>\n",
              "    <tr>\n",
              "      <th>3904</th>\n",
              "      <td>WhatsApp Messenger</td>\n",
              "      <td>COMMUNICATION</td>\n",
              "      <td>1.000000e+09</td>\n",
              "      <td>69109672</td>\n",
              "      <td>0.0</td>\n",
              "      <td>0.0</td>\n",
              "      <td>38.774471</td>\n",
              "    </tr>\n",
              "    <tr>\n",
              "      <th>2604</th>\n",
              "      <td>Instagram</td>\n",
              "      <td>SOCIAL</td>\n",
              "      <td>1.000000e+09</td>\n",
              "      <td>66577446</td>\n",
              "      <td>0.0</td>\n",
              "      <td>0.0</td>\n",
              "      <td>38.737142</td>\n",
              "    </tr>\n",
              "    <tr>\n",
              "      <th>2545</th>\n",
              "      <td>Instagram</td>\n",
              "      <td>SOCIAL</td>\n",
              "      <td>1.000000e+09</td>\n",
              "      <td>66577313</td>\n",
              "      <td>0.0</td>\n",
              "      <td>0.0</td>\n",
              "      <td>38.737140</td>\n",
              "    </tr>\n",
              "    <tr>\n",
              "      <th>3909</th>\n",
              "      <td>Instagram</td>\n",
              "      <td>SOCIAL</td>\n",
              "      <td>1.000000e+09</td>\n",
              "      <td>66509917</td>\n",
              "      <td>0.0</td>\n",
              "      <td>0.0</td>\n",
              "      <td>38.736127</td>\n",
              "    </tr>\n",
              "    <tr>\n",
              "      <th>382</th>\n",
              "      <td>Messenger – Text and Video Chat for Free</td>\n",
              "      <td>COMMUNICATION</td>\n",
              "      <td>1.000000e+09</td>\n",
              "      <td>56646578</td>\n",
              "      <td>0.0</td>\n",
              "      <td>0.0</td>\n",
              "      <td>38.575608</td>\n",
              "    </tr>\n",
              "    <tr>\n",
              "      <th>335</th>\n",
              "      <td>Messenger – Text and Video Chat for Free</td>\n",
              "      <td>COMMUNICATION</td>\n",
              "      <td>1.000000e+09</td>\n",
              "      <td>56642847</td>\n",
              "      <td>0.0</td>\n",
              "      <td>0.0</td>\n",
              "      <td>38.575542</td>\n",
              "    </tr>\n",
              "    <tr>\n",
              "      <th>3665</th>\n",
              "      <td>YouTube</td>\n",
              "      <td>VIDEO_PLAYERS</td>\n",
              "      <td>1.000000e+09</td>\n",
              "      <td>25655305</td>\n",
              "      <td>0.0</td>\n",
              "      <td>0.0</td>\n",
              "      <td>37.783527</td>\n",
              "    </tr>\n",
              "  </tbody>\n",
              "</table>\n",
              "</div>\n",
              "    <div class=\"colab-df-buttons\">\n",
              "\n",
              "  <div class=\"colab-df-container\">\n",
              "    <button class=\"colab-df-convert\" onclick=\"convertToInteractive('df-23ee9447-222a-4837-8dde-e91772b5800f')\"\n",
              "            title=\"Convert this dataframe to an interactive table.\"\n",
              "            style=\"display:none;\">\n",
              "\n",
              "  <svg xmlns=\"http://www.w3.org/2000/svg\" height=\"24px\" viewBox=\"0 -960 960 960\">\n",
              "    <path d=\"M120-120v-720h720v720H120Zm60-500h600v-160H180v160Zm220 220h160v-160H400v160Zm0 220h160v-160H400v160ZM180-400h160v-160H180v160Zm440 0h160v-160H620v160ZM180-180h160v-160H180v160Zm440 0h160v-160H620v160Z\"/>\n",
              "  </svg>\n",
              "    </button>\n",
              "\n",
              "  <style>\n",
              "    .colab-df-container {\n",
              "      display:flex;\n",
              "      gap: 12px;\n",
              "    }\n",
              "\n",
              "    .colab-df-convert {\n",
              "      background-color: #E8F0FE;\n",
              "      border: none;\n",
              "      border-radius: 50%;\n",
              "      cursor: pointer;\n",
              "      display: none;\n",
              "      fill: #1967D2;\n",
              "      height: 32px;\n",
              "      padding: 0 0 0 0;\n",
              "      width: 32px;\n",
              "    }\n",
              "\n",
              "    .colab-df-convert:hover {\n",
              "      background-color: #E2EBFA;\n",
              "      box-shadow: 0px 1px 2px rgba(60, 64, 67, 0.3), 0px 1px 3px 1px rgba(60, 64, 67, 0.15);\n",
              "      fill: #174EA6;\n",
              "    }\n",
              "\n",
              "    .colab-df-buttons div {\n",
              "      margin-bottom: 4px;\n",
              "    }\n",
              "\n",
              "    [theme=dark] .colab-df-convert {\n",
              "      background-color: #3B4455;\n",
              "      fill: #D2E3FC;\n",
              "    }\n",
              "\n",
              "    [theme=dark] .colab-df-convert:hover {\n",
              "      background-color: #434B5C;\n",
              "      box-shadow: 0px 1px 3px 1px rgba(0, 0, 0, 0.15);\n",
              "      filter: drop-shadow(0px 1px 2px rgba(0, 0, 0, 0.3));\n",
              "      fill: #FFFFFF;\n",
              "    }\n",
              "  </style>\n",
              "\n",
              "    <script>\n",
              "      const buttonEl =\n",
              "        document.querySelector('#df-23ee9447-222a-4837-8dde-e91772b5800f button.colab-df-convert');\n",
              "      buttonEl.style.display =\n",
              "        google.colab.kernel.accessAllowed ? 'block' : 'none';\n",
              "\n",
              "      async function convertToInteractive(key) {\n",
              "        const element = document.querySelector('#df-23ee9447-222a-4837-8dde-e91772b5800f');\n",
              "        const dataTable =\n",
              "          await google.colab.kernel.invokeFunction('convertToInteractive',\n",
              "                                                    [key], {});\n",
              "        if (!dataTable) return;\n",
              "\n",
              "        const docLinkHtml = 'Like what you see? Visit the ' +\n",
              "          '<a target=\"_blank\" href=https://colab.research.google.com/notebooks/data_table.ipynb>data table notebook</a>'\n",
              "          + ' to learn more about interactive tables.';\n",
              "        element.innerHTML = '';\n",
              "        dataTable['output_type'] = 'display_data';\n",
              "        await google.colab.output.renderOutput(dataTable, element);\n",
              "        const docLink = document.createElement('div');\n",
              "        docLink.innerHTML = docLinkHtml;\n",
              "        element.appendChild(docLink);\n",
              "      }\n",
              "    </script>\n",
              "  </div>\n",
              "\n",
              "\n",
              "<div id=\"df-da0495d2-f207-4daa-ba0d-15bd9e51b026\">\n",
              "  <button class=\"colab-df-quickchart\" onclick=\"quickchart('df-da0495d2-f207-4daa-ba0d-15bd9e51b026')\"\n",
              "            title=\"Suggest charts\"\n",
              "            style=\"display:none;\">\n",
              "\n",
              "<svg xmlns=\"http://www.w3.org/2000/svg\" height=\"24px\"viewBox=\"0 0 24 24\"\n",
              "     width=\"24px\">\n",
              "    <g>\n",
              "        <path d=\"M19 3H5c-1.1 0-2 .9-2 2v14c0 1.1.9 2 2 2h14c1.1 0 2-.9 2-2V5c0-1.1-.9-2-2-2zM9 17H7v-7h2v7zm4 0h-2V7h2v10zm4 0h-2v-4h2v4z\"/>\n",
              "    </g>\n",
              "</svg>\n",
              "  </button>\n",
              "\n",
              "<style>\n",
              "  .colab-df-quickchart {\n",
              "      --bg-color: #E8F0FE;\n",
              "      --fill-color: #1967D2;\n",
              "      --hover-bg-color: #E2EBFA;\n",
              "      --hover-fill-color: #174EA6;\n",
              "      --disabled-fill-color: #AAA;\n",
              "      --disabled-bg-color: #DDD;\n",
              "  }\n",
              "\n",
              "  [theme=dark] .colab-df-quickchart {\n",
              "      --bg-color: #3B4455;\n",
              "      --fill-color: #D2E3FC;\n",
              "      --hover-bg-color: #434B5C;\n",
              "      --hover-fill-color: #FFFFFF;\n",
              "      --disabled-bg-color: #3B4455;\n",
              "      --disabled-fill-color: #666;\n",
              "  }\n",
              "\n",
              "  .colab-df-quickchart {\n",
              "    background-color: var(--bg-color);\n",
              "    border: none;\n",
              "    border-radius: 50%;\n",
              "    cursor: pointer;\n",
              "    display: none;\n",
              "    fill: var(--fill-color);\n",
              "    height: 32px;\n",
              "    padding: 0;\n",
              "    width: 32px;\n",
              "  }\n",
              "\n",
              "  .colab-df-quickchart:hover {\n",
              "    background-color: var(--hover-bg-color);\n",
              "    box-shadow: 0 1px 2px rgba(60, 64, 67, 0.3), 0 1px 3px 1px rgba(60, 64, 67, 0.15);\n",
              "    fill: var(--button-hover-fill-color);\n",
              "  }\n",
              "\n",
              "  .colab-df-quickchart-complete:disabled,\n",
              "  .colab-df-quickchart-complete:disabled:hover {\n",
              "    background-color: var(--disabled-bg-color);\n",
              "    fill: var(--disabled-fill-color);\n",
              "    box-shadow: none;\n",
              "  }\n",
              "\n",
              "  .colab-df-spinner {\n",
              "    border: 2px solid var(--fill-color);\n",
              "    border-color: transparent;\n",
              "    border-bottom-color: var(--fill-color);\n",
              "    animation:\n",
              "      spin 1s steps(1) infinite;\n",
              "  }\n",
              "\n",
              "  @keyframes spin {\n",
              "    0% {\n",
              "      border-color: transparent;\n",
              "      border-bottom-color: var(--fill-color);\n",
              "      border-left-color: var(--fill-color);\n",
              "    }\n",
              "    20% {\n",
              "      border-color: transparent;\n",
              "      border-left-color: var(--fill-color);\n",
              "      border-top-color: var(--fill-color);\n",
              "    }\n",
              "    30% {\n",
              "      border-color: transparent;\n",
              "      border-left-color: var(--fill-color);\n",
              "      border-top-color: var(--fill-color);\n",
              "      border-right-color: var(--fill-color);\n",
              "    }\n",
              "    40% {\n",
              "      border-color: transparent;\n",
              "      border-right-color: var(--fill-color);\n",
              "      border-top-color: var(--fill-color);\n",
              "    }\n",
              "    60% {\n",
              "      border-color: transparent;\n",
              "      border-right-color: var(--fill-color);\n",
              "    }\n",
              "    80% {\n",
              "      border-color: transparent;\n",
              "      border-right-color: var(--fill-color);\n",
              "      border-bottom-color: var(--fill-color);\n",
              "    }\n",
              "    90% {\n",
              "      border-color: transparent;\n",
              "      border-bottom-color: var(--fill-color);\n",
              "    }\n",
              "  }\n",
              "</style>\n",
              "\n",
              "  <script>\n",
              "    async function quickchart(key) {\n",
              "      const quickchartButtonEl =\n",
              "        document.querySelector('#' + key + ' button');\n",
              "      quickchartButtonEl.disabled = true;  // To prevent multiple clicks.\n",
              "      quickchartButtonEl.classList.add('colab-df-spinner');\n",
              "      try {\n",
              "        const charts = await google.colab.kernel.invokeFunction(\n",
              "            'suggestCharts', [key], {});\n",
              "      } catch (error) {\n",
              "        console.error('Error during call to suggestCharts:', error);\n",
              "      }\n",
              "      quickchartButtonEl.classList.remove('colab-df-spinner');\n",
              "      quickchartButtonEl.classList.add('colab-df-quickchart-complete');\n",
              "    }\n",
              "    (() => {\n",
              "      let quickchartButtonEl =\n",
              "        document.querySelector('#df-da0495d2-f207-4daa-ba0d-15bd9e51b026 button');\n",
              "      quickchartButtonEl.style.display =\n",
              "        google.colab.kernel.accessAllowed ? 'block' : 'none';\n",
              "    })();\n",
              "  </script>\n",
              "</div>\n",
              "\n",
              "    </div>\n",
              "  </div>\n"
            ],
            "application/vnd.google.colaboratory.intrinsic+json": {
              "type": "dataframe",
              "summary": "{\n  \"name\": \"  \",\n  \"rows\": 10,\n  \"fields\": [\n    {\n      \"column\": \"App\",\n      \"properties\": {\n        \"dtype\": \"string\",\n        \"num_unique_values\": 5,\n        \"samples\": [\n          \"WhatsApp Messenger\",\n          \"YouTube\",\n          \"Instagram\"\n        ],\n        \"semantic_type\": \"\",\n        \"description\": \"\"\n      }\n    },\n    {\n      \"column\": \"Category\",\n      \"properties\": {\n        \"dtype\": \"category\",\n        \"num_unique_values\": 3,\n        \"samples\": [\n          \"SOCIAL\",\n          \"COMMUNICATION\",\n          \"VIDEO_PLAYERS\"\n        ],\n        \"semantic_type\": \"\",\n        \"description\": \"\"\n      }\n    },\n    {\n      \"column\": \"Installs\",\n      \"properties\": {\n        \"dtype\": \"number\",\n        \"std\": 0.0,\n        \"min\": 1000000000.0,\n        \"max\": 1000000000.0,\n        \"num_unique_values\": 1,\n        \"samples\": [\n          1000000000.0\n        ],\n        \"semantic_type\": \"\",\n        \"description\": \"\"\n      }\n    },\n    {\n      \"column\": \"Reviews\",\n      \"properties\": {\n        \"dtype\": \"number\",\n        \"std\": 15076674,\n        \"min\": 25655305,\n        \"max\": 78158306,\n        \"num_unique_values\": 10,\n        \"samples\": [\n          56642847\n        ],\n        \"semantic_type\": \"\",\n        \"description\": \"\"\n      }\n    },\n    {\n      \"column\": \"Size\",\n      \"properties\": {\n        \"dtype\": \"number\",\n        \"std\": 0.0,\n        \"min\": 0.0,\n        \"max\": 0.0,\n        \"num_unique_values\": 1,\n        \"samples\": [\n          0.0\n        ],\n        \"semantic_type\": \"\",\n        \"description\": \"\"\n      }\n    },\n    {\n      \"column\": \"Price\",\n      \"properties\": {\n        \"dtype\": \"number\",\n        \"std\": 0.0,\n        \"min\": 0.0,\n        \"max\": 0.0,\n        \"num_unique_values\": 1,\n        \"samples\": [\n          0.0\n        ],\n        \"semantic_type\": \"\",\n        \"description\": \"\"\n      }\n    },\n    {\n      \"column\": \"Virality Score\",\n      \"properties\": {\n        \"dtype\": \"number\",\n        \"std\": 0.3228005968314835,\n        \"min\": 37.783526807733,\n        \"max\": 38.89751274271461,\n        \"num_unique_values\": 10,\n        \"samples\": [\n          38.5755421265179\n        ],\n        \"semantic_type\": \"\",\n        \"description\": \"\"\n      }\n    }\n  ]\n}"
            }
          },
          "metadata": {},
          "execution_count": 32
        }
      ]
    },
    {
      "cell_type": "code",
      "execution_count": null,
      "metadata": {
        "id": "scbxxjkk_DPD"
      },
      "outputs": [],
      "source": [
        "df['Engagement Score'] = (np.log1p(df['Reviews']) / np.log1p(df['Installs'] + 1)) * df['Rating']\n"
      ]
    },
    {
      "cell_type": "code",
      "execution_count": null,
      "metadata": {
        "id": "IVYR83UE_FYB"
      },
      "outputs": [],
      "source": [
        "from sklearn.preprocessing import RobustScaler\n",
        "\n",
        "features = ['Virality Score', 'Engagement Score', 'Rating', 'Reviews', 'Installs']\n",
        "scaler = RobustScaler()\n",
        "df_scaled = scaler.fit_transform(df[features])\n",
        "\n"
      ]
    },
    {
      "cell_type": "code",
      "execution_count": null,
      "metadata": {
        "colab": {
          "base_uri": "https://localhost:8080/",
          "height": 489
        },
        "id": "ve4CrXNIthUx",
        "outputId": "4b4cf20a-437c-41c6-904e-cf0b56753c60"
      },
      "outputs": [
        {
          "output_type": "execute_result",
          "data": {
            "text/plain": [
              "Virality Score\n",
              "1.882699     4\n",
              "2.414592     3\n",
              "2.267770     3\n",
              "1.570113     3\n",
              "1.590795     3\n",
              "            ..\n",
              "4.561667     1\n",
              "5.062910     1\n",
              "23.956874    1\n",
              "6.078473     1\n",
              "29.027860    1\n",
              "Name: count, Length: 8761, dtype: int64"
            ],
            "text/html": [
              "<div>\n",
              "<style scoped>\n",
              "    .dataframe tbody tr th:only-of-type {\n",
              "        vertical-align: middle;\n",
              "    }\n",
              "\n",
              "    .dataframe tbody tr th {\n",
              "        vertical-align: top;\n",
              "    }\n",
              "\n",
              "    .dataframe thead th {\n",
              "        text-align: right;\n",
              "    }\n",
              "</style>\n",
              "<table border=\"1\" class=\"dataframe\">\n",
              "  <thead>\n",
              "    <tr style=\"text-align: right;\">\n",
              "      <th></th>\n",
              "      <th>count</th>\n",
              "    </tr>\n",
              "    <tr>\n",
              "      <th>Virality Score</th>\n",
              "      <th></th>\n",
              "    </tr>\n",
              "  </thead>\n",
              "  <tbody>\n",
              "    <tr>\n",
              "      <th>1.882699</th>\n",
              "      <td>4</td>\n",
              "    </tr>\n",
              "    <tr>\n",
              "      <th>2.414592</th>\n",
              "      <td>3</td>\n",
              "    </tr>\n",
              "    <tr>\n",
              "      <th>2.267770</th>\n",
              "      <td>3</td>\n",
              "    </tr>\n",
              "    <tr>\n",
              "      <th>1.570113</th>\n",
              "      <td>3</td>\n",
              "    </tr>\n",
              "    <tr>\n",
              "      <th>1.590795</th>\n",
              "      <td>3</td>\n",
              "    </tr>\n",
              "    <tr>\n",
              "      <th>...</th>\n",
              "      <td>...</td>\n",
              "    </tr>\n",
              "    <tr>\n",
              "      <th>4.561667</th>\n",
              "      <td>1</td>\n",
              "    </tr>\n",
              "    <tr>\n",
              "      <th>5.062910</th>\n",
              "      <td>1</td>\n",
              "    </tr>\n",
              "    <tr>\n",
              "      <th>23.956874</th>\n",
              "      <td>1</td>\n",
              "    </tr>\n",
              "    <tr>\n",
              "      <th>6.078473</th>\n",
              "      <td>1</td>\n",
              "    </tr>\n",
              "    <tr>\n",
              "      <th>29.027860</th>\n",
              "      <td>1</td>\n",
              "    </tr>\n",
              "  </tbody>\n",
              "</table>\n",
              "<p>8761 rows × 1 columns</p>\n",
              "</div><br><label><b>dtype:</b> int64</label>"
            ]
          },
          "metadata": {},
          "execution_count": 35
        }
      ],
      "source": [
        "\n",
        "df['Virality Score'].value_counts()"
      ]
    },
    {
      "cell_type": "code",
      "execution_count": null,
      "metadata": {
        "id": "psplvXhjUAZu"
      },
      "outputs": [],
      "source": [
        "df['Installs'] = np.log1p(df['Installs'])\n",
        "df['Reviews'] = np.log1p(df['Reviews'])\n",
        "df['Size'] = np.log1p(df['Size'])  # Normalize \"Size\" too\n"
      ]
    },
    {
      "cell_type": "markdown",
      "source": [
        "# Clustering with K-Means\n",
        "Used K-Means Clustering to group apps into virality clusters:\n",
        "\n",
        "Applied Elbow Method to determine optimal k (number of clusters).\n",
        "\n",
        "Scaled features before clustering.\n",
        "\n",
        "Clustered apps into distinct groups representing different virality levels (e.g., High, Medium, Low)."
      ],
      "metadata": {
        "id": "l4NNj1-AaUgp"
      }
    },
    {
      "cell_type": "code",
      "execution_count": null,
      "metadata": {
        "colab": {
          "base_uri": "https://localhost:8080/",
          "height": 542
        },
        "id": "GqjEBMRU_FVp",
        "outputId": "4df05c9f-76f6-480b-bdf0-c420989b26fc"
      },
      "outputs": [
        {
          "output_type": "display_data",
          "data": {
            "text/plain": [
              "<Figure size 800x550 with 2 Axes>"
            ],
            "image/png": "[encoded data removed]"
          },
          "metadata": {}
        },
        {
          "output_type": "execute_result",
          "data": {
            "text/plain": [
              "<Axes: title={'center': 'Distortion Score Elbow for KMeans Clustering'}, xlabel='k', ylabel='distortion score'>"
            ]
          },
          "metadata": {},
          "execution_count": 37
        }
      ],
      "source": [
        "from yellowbrick.cluster import KElbowVisualizer\n",
        "model = KMeans()\n",
        "visualizer = KElbowVisualizer(model, k=(2, 10))\n",
        "visualizer.fit(df_scaled)\n",
        "visualizer.show()"
      ]
    },
    {
      "cell_type": "code",
      "execution_count": null,
      "metadata": {
        "id": "Jomb3g-WS-16"
      },
      "outputs": [],
      "source": [
        "kmeans = KMeans(n_clusters=5, max_iter=500, random_state=42)\n",
        "df['Cluster'] = kmeans.fit_predict(df_scaled)\n"
      ]
    },
    {
      "cell_type": "code",
      "execution_count": null,
      "metadata": {
        "colab": {
          "base_uri": "https://localhost:8080/",
          "height": 272
        },
        "id": "8uI6-eseTAu6",
        "outputId": "7ffea6a0-6e92-45ac-c31d-a7d40d023a86"
      },
      "outputs": [
        {
          "output_type": "execute_result",
          "data": {
            "text/plain": [
              "Cluster\n",
              "3    8517\n",
              "0     269\n",
              "4      70\n",
              "1      21\n",
              "2       9\n",
              "Name: count, dtype: int64"
            ],
            "text/html": [
              "<div>\n",
              "<style scoped>\n",
              "    .dataframe tbody tr th:only-of-type {\n",
              "        vertical-align: middle;\n",
              "    }\n",
              "\n",
              "    .dataframe tbody tr th {\n",
              "        vertical-align: top;\n",
              "    }\n",
              "\n",
              "    .dataframe thead th {\n",
              "        text-align: right;\n",
              "    }\n",
              "</style>\n",
              "<table border=\"1\" class=\"dataframe\">\n",
              "  <thead>\n",
              "    <tr style=\"text-align: right;\">\n",
              "      <th></th>\n",
              "      <th>count</th>\n",
              "    </tr>\n",
              "    <tr>\n",
              "      <th>Cluster</th>\n",
              "      <th></th>\n",
              "    </tr>\n",
              "  </thead>\n",
              "  <tbody>\n",
              "    <tr>\n",
              "      <th>3</th>\n",
              "      <td>8517</td>\n",
              "    </tr>\n",
              "    <tr>\n",
              "      <th>0</th>\n",
              "      <td>269</td>\n",
              "    </tr>\n",
              "    <tr>\n",
              "      <th>4</th>\n",
              "      <td>70</td>\n",
              "    </tr>\n",
              "    <tr>\n",
              "      <th>1</th>\n",
              "      <td>21</td>\n",
              "    </tr>\n",
              "    <tr>\n",
              "      <th>2</th>\n",
              "      <td>9</td>\n",
              "    </tr>\n",
              "  </tbody>\n",
              "</table>\n",
              "</div><br><label><b>dtype:</b> int64</label>"
            ]
          },
          "metadata": {},
          "execution_count": 39
        }
      ],
      "source": [
        "df['Cluster'].value_counts()\n"
      ]
    },
    {
      "cell_type": "code",
      "execution_count": null,
      "metadata": {
        "colab": {
          "base_uri": "https://localhost:8080/"
        },
        "id": "YEWGKqpN_FS5",
        "outputId": "94151152-3fe3-45e3-c69d-439e61c85142"
      },
      "outputs": [
        {
          "output_type": "execute_result",
          "data": {
            "text/plain": [
              "array([nan, 'Highly Viral 🚀', 'Low Engagement 📉', 'Moderately Popular 📈'],\n",
              "      dtype=object)"
            ]
          },
          "metadata": {},
          "execution_count": 40
        }
      ],
      "source": [
        "cluster_labels = {0: 'Highly Viral 🚀', 1: 'Moderately Popular 📈', 2: 'Low Engagement 📉'}\n",
        "\n",
        "# Map cluster labels\n",
        "df['Cluster Label'] = df['Cluster'].map(cluster_labels)\n",
        "\n",
        "# Check if mapping was successful\n",
        "df['Cluster Label'].unique()\n",
        "\n"
      ]
    },
    {
      "cell_type": "code",
      "execution_count": null,
      "metadata": {
        "colab": {
          "base_uri": "https://localhost:8080/",
          "height": 272
        },
        "id": "MGZ2njYlTj5N",
        "outputId": "63e7e8e5-898f-4f06-cb76-fda0587f00df"
      },
      "outputs": [
        {
          "output_type": "execute_result",
          "data": {
            "text/plain": [
              "Cluster\n",
              "3    8517\n",
              "0     269\n",
              "4      70\n",
              "1      21\n",
              "2       9\n",
              "Name: count, dtype: int64"
            ],
            "text/html": [
              "<div>\n",
              "<style scoped>\n",
              "    .dataframe tbody tr th:only-of-type {\n",
              "        vertical-align: middle;\n",
              "    }\n",
              "\n",
              "    .dataframe tbody tr th {\n",
              "        vertical-align: top;\n",
              "    }\n",
              "\n",
              "    .dataframe thead th {\n",
              "        text-align: right;\n",
              "    }\n",
              "</style>\n",
              "<table border=\"1\" class=\"dataframe\">\n",
              "  <thead>\n",
              "    <tr style=\"text-align: right;\">\n",
              "      <th></th>\n",
              "      <th>count</th>\n",
              "    </tr>\n",
              "    <tr>\n",
              "      <th>Cluster</th>\n",
              "      <th></th>\n",
              "    </tr>\n",
              "  </thead>\n",
              "  <tbody>\n",
              "    <tr>\n",
              "      <th>3</th>\n",
              "      <td>8517</td>\n",
              "    </tr>\n",
              "    <tr>\n",
              "      <th>0</th>\n",
              "      <td>269</td>\n",
              "    </tr>\n",
              "    <tr>\n",
              "      <th>4</th>\n",
              "      <td>70</td>\n",
              "    </tr>\n",
              "    <tr>\n",
              "      <th>1</th>\n",
              "      <td>21</td>\n",
              "    </tr>\n",
              "    <tr>\n",
              "      <th>2</th>\n",
              "      <td>9</td>\n",
              "    </tr>\n",
              "  </tbody>\n",
              "</table>\n",
              "</div><br><label><b>dtype:</b> int64</label>"
            ]
          },
          "metadata": {},
          "execution_count": 41
        }
      ],
      "source": [
        "df['Cluster'].value_counts()\n"
      ]
    },
    {
      "cell_type": "code",
      "execution_count": null,
      "metadata": {
        "id": "hwlt9zOIXnW9"
      },
      "outputs": [],
      "source": []
    },
    {
      "cell_type": "code",
      "execution_count": null,
      "metadata": {
        "id": "Kzg2HoOtBwDv"
      },
      "outputs": [],
      "source": [
        "cluster_labels = {0: 'Highly Viral 🚀', 1: 'Moderately Popular 📈', 2: 'Low Engagement 📉'}\n",
        "\n",
        "df['Cluster Label'] = df['Cluster'].map(cluster_labels)\n"
      ]
    },
    {
      "cell_type": "markdown",
      "source": [
        "# Dimensionality Reduction with PCA\n",
        "Used Principal Component Analysis (PCA) to reduce feature dimensions for better visualization.\n",
        "\n",
        "Visualized clusters in 2D plots to show how different apps are distributed across virality clusters.\n",
        "\n"
      ],
      "metadata": {
        "id": "vDSPunysab24"
      }
    },
    {
      "cell_type": "code",
      "execution_count": null,
      "metadata": {
        "id": "j8FOGLX_WULf"
      },
      "outputs": [],
      "source": [
        "pca = PCA(n_components=2)\n",
        "pca_result = pca.fit_transform(df_scaled)\n",
        "\n",
        "df['PCA1'] = pca_result[:, 0]\n",
        "df['PCA2'] = pca_result[:, 1]\n"
      ]
    },
    {
      "cell_type": "code",
      "execution_count": null,
      "metadata": {
        "colab": {
          "base_uri": "https://localhost:8080/",
          "height": 673
        },
        "id": "eaQXuFe6BwBg",
        "outputId": "7cda351a-d3da-415e-d946-8ab0276c4595"
      },
      "outputs": [
        {
          "output_type": "stream",
          "name": "stderr",
          "text": [
            "/usr/local/lib/python3.11/dist-packages/IPython/core/pylabtools.py:151: UserWarning: Glyph 128640 (\\N{ROCKET}) missing from font(s) Liberation Sans.\n",
            "  fig.canvas.print_figure(bytes_io, **kw)\n",
            "/usr/local/lib/python3.11/dist-packages/IPython/core/pylabtools.py:151: UserWarning: Glyph 128201 (\\N{CHART WITH DOWNWARDS TREND}) missing from font(s) Liberation Sans.\n",
            "  fig.canvas.print_figure(bytes_io, **kw)\n",
            "/usr/local/lib/python3.11/dist-packages/IPython/core/pylabtools.py:151: UserWarning: Glyph 128200 (\\N{CHART WITH UPWARDS TREND}) missing from font(s) Liberation Sans.\n",
            "  fig.canvas.print_figure(bytes_io, **kw)\n"
          ]
        },
        {
          "output_type": "display_data",
          "data": {
            "text/plain": [
              "<Figure size 1000x600 with 1 Axes>"
            ],
            "image/png": "[encoded data removed]"
          },
          "metadata": {}
        }
      ],
      "source": [
        "plt.figure(figsize=(10,6))\n",
        "sns.scatterplot(x='PCA1', y='PCA2', hue='Cluster Label', data=df, palette='viridis')\n",
        "plt.title(\"App Clusters Based on Virality & Engagement\")\n",
        "plt.show()"
      ]
    },
    {
      "cell_type": "code",
      "execution_count": null,
      "metadata": {
        "colab": {
          "base_uri": "https://localhost:8080/"
        },
        "id": "CyWcnbXDXnW-",
        "outputId": "6f000f24-f3ad-48a9-cae4-bf3d23fb546c"
      },
      "outputs": [
        {
          "output_type": "execute_result",
          "data": {
            "text/plain": [
              "(8886, 19)"
            ]
          },
          "metadata": {},
          "execution_count": 45
        }
      ],
      "source": [
        "df.shape"
      ]
    },
    {
      "cell_type": "code",
      "execution_count": null,
      "metadata": {
        "colab": {
          "base_uri": "https://localhost:8080/",
          "height": 272
        },
        "id": "--J1oFCwXnW-",
        "outputId": "6d8b7a2b-ccb7-4e83-9b88-de4a5dae7d77"
      },
      "outputs": [
        {
          "output_type": "execute_result",
          "data": {
            "text/plain": [
              "Cluster\n",
              "3    8517\n",
              "0     269\n",
              "4      70\n",
              "1      21\n",
              "2       9\n",
              "Name: count, dtype: int64"
            ],
            "text/html": [
              "<div>\n",
              "<style scoped>\n",
              "    .dataframe tbody tr th:only-of-type {\n",
              "        vertical-align: middle;\n",
              "    }\n",
              "\n",
              "    .dataframe tbody tr th {\n",
              "        vertical-align: top;\n",
              "    }\n",
              "\n",
              "    .dataframe thead th {\n",
              "        text-align: right;\n",
              "    }\n",
              "</style>\n",
              "<table border=\"1\" class=\"dataframe\">\n",
              "  <thead>\n",
              "    <tr style=\"text-align: right;\">\n",
              "      <th></th>\n",
              "      <th>count</th>\n",
              "    </tr>\n",
              "    <tr>\n",
              "      <th>Cluster</th>\n",
              "      <th></th>\n",
              "    </tr>\n",
              "  </thead>\n",
              "  <tbody>\n",
              "    <tr>\n",
              "      <th>3</th>\n",
              "      <td>8517</td>\n",
              "    </tr>\n",
              "    <tr>\n",
              "      <th>0</th>\n",
              "      <td>269</td>\n",
              "    </tr>\n",
              "    <tr>\n",
              "      <th>4</th>\n",
              "      <td>70</td>\n",
              "    </tr>\n",
              "    <tr>\n",
              "      <th>1</th>\n",
              "      <td>21</td>\n",
              "    </tr>\n",
              "    <tr>\n",
              "      <th>2</th>\n",
              "      <td>9</td>\n",
              "    </tr>\n",
              "  </tbody>\n",
              "</table>\n",
              "</div><br><label><b>dtype:</b> int64</label>"
            ]
          },
          "metadata": {},
          "execution_count": 46
        }
      ],
      "source": [
        "df['Cluster'].value_counts()"
      ]
    },
    {
      "cell_type": "code",
      "execution_count": null,
      "metadata": {
        "colab": {
          "base_uri": "https://localhost:8080/"
        },
        "id": "Q--vkawNIgkM",
        "outputId": "0ce01928-65cb-4d5f-8849-ad34d56c660e"
      },
      "outputs": [
        {
          "output_type": "stream",
          "name": "stdout",
          "text": [
            "Silhouette Score: 0.91\n"
          ]
        }
      ],
      "source": [
        "silhouette_avg = silhouette_score(df_scaled, df['Cluster'])\n",
        "print(f\"Silhouette Score: {silhouette_avg:.2f}\")"
      ]
    },
    {
      "cell_type": "markdown",
      "source": [
        "# Documentation and Reporting\n",
        "Documentation and Reporting for Google Play Store App Analysis\n",
        "\n",
        "Introduction\n",
        "This report details an analysis of the Google Play Store app dataset to understand factors driving app success.  We explored app ratings, reviews, pricing, installs, and other features to provide insights for app developers.\n",
        "\n",
        "Goals\n",
        "1. Analyze app quality through ratings and reviews.\n",
        "2. Understand the relationship between pricing (free vs. paid) and downloads.\n",
        "3. Identify popular app categories based on installs and ratings.\n",
        "4. Examine the effect of app size, updates, and Android version compatibility on performance.\n",
        "\n",
        "\n",
        "Data Understanding and Preparation\n",
        "The dataset was loaded and inspected for initial understanding. Data cleaning steps included handling duplicates, converting data types (installs, size, price), and addressing missing values.\n",
        "\n",
        "\n",
        "Feature Engineering\n",
        "Two new features were engineered to capture user engagement and virality:\n",
        "* **Engagement Score**: Reviews / Installs * 100\n",
        "* **Virality Score**: (log(Reviews) * Rating) / log(Installs)\n",
        "\n",
        "These scores were added to the dataset for further analysis.\n",
        "\n",
        "Clustering with K-Means\n",
        "We used the K-means clustering algorithm to segment apps into virality clusters. The optimal number of clusters was determined using the Elbow method. Features were scaled before clustering to prevent bias.  Five clusters were chosen and labeled as:\n",
        "\n",
        "* Highly Viral 🚀\n",
        "* Moderately Popular 📈\n",
        "* Low Engagement 📉\n",
        "\n",
        "Dimensionality Reduction with PCA\n",
        "Principal Component Analysis (PCA) was employed to reduce the number of dimensions to two for visualization. The clusters were then plotted on a 2D scatterplot, revealing the distribution of apps across the virality landscape.\n",
        "\n",
        "\n",
        "Evaluation\n",
        "The Silhouette Score was calculated to evaluate the quality of the clusters generated by the K-means algorithm. The silhouette score measures how similar a data point is to its own cluster (cohesion) compared to other clusters (separation).\n",
        "\n",
        "\n",
        "Conclusion\n",
        "The analysis identifies patterns in app virality, suggesting strategies for app developers to improve user engagement.  The visualization of the clusters, with the aid of PCA, offers a clearer understanding of where apps stand in the market.\n",
        "\n",
        "Further analysis could include a deeper dive into specific app categories and the impact of different factors (e.g., size, updates).  The created virality and engagement scores provide excellent metrics to measure app performance."
      ],
      "metadata": {
        "id": "j8sIZR7-bdlZ"
      }
    },
    {
      "cell_type": "code",
      "source": [],
      "metadata": {
        "id": "Poj04hX1bmM4"
      },
      "execution_count": null,
      "outputs": []
    }
  ],
  "metadata": {
    "colab": {
      "provenance": []
    },
    "kernelspec": {
      "display_name": "base",
      "language": "python",
      "name": "python3"
    },
    "language_info": {
      "codemirror_mode": {
        "name": "ipython",
        "version": 3
      },
      "file_extension": ".py",
      "mimetype": "text/x-python",
      "name": "python",
      "nbconvert_exporter": "python",
      "pygments_lexer": "ipython3",
      "version": "3.12.4"
    }
  },
  "nbformat": 4,
  "nbformat_minor": 0
}